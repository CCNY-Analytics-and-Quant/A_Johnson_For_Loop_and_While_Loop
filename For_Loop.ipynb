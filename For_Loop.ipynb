{
 "cells": [
  {
   "cell_type": "code",
   "execution_count": 1,
   "id": "7292721d-dde6-4210-abb7-5b404edcb14c",
   "metadata": {},
   "outputs": [],
   "source": [
    "#importing different libraries\n",
    "import pandas as pd\n",
    "import datetime as dt\n",
    "import numpy as np\n",
    "import matplotlib.pyplot as plt\n",
    "import seaborn as sns\n",
    "import pydoc as python\n",
    "import yfinance as yf"
   ]
  },
  {
   "cell_type": "code",
   "execution_count": 23,
   "id": "044722bd-719d-458e-abca-ea227cb4ba1a",
   "metadata": {},
   "outputs": [
    {
     "data": {
      "text/plain": [
       "881500"
      ]
     },
     "execution_count": 23,
     "metadata": {},
     "output_type": "execute_result"
    }
   ],
   "source": [
    "retire_age = 65\n",
    "my_age = 22\n",
    "four01k_contrib = 20500\n",
    "\n",
    "#calculating total contributions\n",
    "(retire_age - my_age) * (four01k_contrib)"
   ]
  },
  {
   "cell_type": "code",
   "execution_count": 26,
   "id": "b3360a08-c95f-4118-9581-3aff402e008e",
   "metadata": {},
   "outputs": [
    {
     "name": "stdout",
     "output_type": "stream",
     "text": [
      "42 36224778.07905782\n"
     ]
    }
   ],
   "source": [
    "balance = 0\n",
    "interest = .1361 + 1\n",
    "\n",
    "#creating 401k for-loop\n",
    "for age in range (retire_age - my_age):\n",
    "    balance = (balance * interest) + four01k_contrib\n",
    "print(age, balance)"
   ]
  },
  {
   "cell_type": "code",
   "execution_count": null,
   "id": "2f3c49fd-d00c-47d5-a239-1795efb1455e",
   "metadata": {},
   "outputs": [],
   "source": [
    "balance -> (0) + (20500)\n",
    "balance -> balance + (20500)\n",
    "year 3 -> balance"
   ]
  },
  {
   "cell_type": "code",
   "execution_count": 6,
   "id": "48e64521-6a8c-4d40-b4f4-79fd0dfe589f",
   "metadata": {},
   "outputs": [
    {
     "name": "stdout",
     "output_type": "stream",
     "text": [
      "[*********************100%***********************]  1 of 1 completed\n"
     ]
    }
   ],
   "source": [
    "#download data frame with interest rates\n",
    "data = yf.download('SPY', period = '10y')['Adj Close']"
   ]
  },
  {
   "cell_type": "code",
   "execution_count": 7,
   "id": "b3b515fb-296a-47b2-ad3c-3bf88f523248",
   "metadata": {},
   "outputs": [
    {
     "data": {
      "text/plain": [
       "Date\n",
       "2012-12-31    118.276718\n",
       "2013-12-31    156.489258\n",
       "2014-12-31    177.558609\n",
       "2015-12-31    179.750214\n",
       "2016-12-31    201.316467\n",
       "2017-12-31    245.012985\n",
       "2018-12-31    233.818344\n",
       "2019-12-31    306.825470\n",
       "2020-12-31    363.071594\n",
       "2021-12-31    467.377563\n",
       "2022-12-31    380.720001\n",
       "Freq: A-DEC, Name: Adj Close, dtype: float64"
      ]
     },
     "execution_count": 7,
     "metadata": {},
     "output_type": "execute_result"
    }
   ],
   "source": [
    "data.resample ('y').last()"
   ]
  },
  {
   "cell_type": "code",
   "execution_count": 8,
   "id": "e1c8f960-5516-40d8-9e6b-0ba3363d1708",
   "metadata": {},
   "outputs": [
    {
     "data": {
      "text/plain": [
       "13.61282539111062"
      ]
     },
     "execution_count": 8,
     "metadata": {},
     "output_type": "execute_result"
    }
   ],
   "source": [
    "#average interest from number of business days in a year\n",
    "data.pct_change(252).mean() * 100"
   ]
  },
  {
   "cell_type": "code",
   "execution_count": 19,
   "id": "5d864dc6-daa3-4953-9c00-d052b6070120",
   "metadata": {},
   "outputs": [
    {
     "name": "stdout",
     "output_type": "stream",
     "text": [
      "1117 50223348.73129469\n"
     ]
    }
   ],
   "source": [
    "balance = 0\n",
    "interest = 0.005207916312759982 + 1\n",
    "\n",
    "retire_age = 65\n",
    "my_age = 22\n",
    "four01k_contrib = 20500/26\n",
    "\n",
    "#creating 401k for-loop with bi-weekly contributions\n",
    "for age in range ((retire_age - my_age) * 26):\n",
    "    balance = (balance * interest) + four01k_contrib\n",
    "print(age, balance)"
   ]
  },
  {
   "cell_type": "code",
   "execution_count": 15,
   "id": "76899045-2e3e-48b4-86bd-6296b1fcb2d2",
   "metadata": {},
   "outputs": [
    {
     "data": {
      "text/plain": [
       "0.005207916312759982"
      ]
     },
     "execution_count": 15,
     "metadata": {},
     "output_type": "execute_result"
    }
   ],
   "source": [
    "#average interest from trading periods bi-weekly\n",
    "data.pct_change(10).mean()"
   ]
  },
  {
   "cell_type": "code",
   "execution_count": null,
   "id": "208c9efd-eeb5-40f2-833a-9673e8bb4e9f",
   "metadata": {},
   "outputs": [],
   "source": []
  }
 ],
 "metadata": {
  "kernelspec": {
   "display_name": "Python 3 (ipykernel)",
   "language": "python",
   "name": "python3"
  },
  "language_info": {
   "codemirror_mode": {
    "name": "ipython",
    "version": 3
   },
   "file_extension": ".py",
   "mimetype": "text/x-python",
   "name": "python",
   "nbconvert_exporter": "python",
   "pygments_lexer": "ipython3",
   "version": "3.9.7"
  }
 },
 "nbformat": 4,
 "nbformat_minor": 5
}
