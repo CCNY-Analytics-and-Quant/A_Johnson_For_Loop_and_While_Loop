{
 "cells": [
  {
   "cell_type": "code",
   "execution_count": 4,
   "id": "8085a4b5-d33a-4311-82e4-823b37abb607",
   "metadata": {},
   "outputs": [
    {
     "name": "stdout",
     "output_type": "stream",
     "text": [
      "243293.99999999997\n"
     ]
    }
   ],
   "source": [
    "#identifying life expenses\n",
    "housing = 2500 * 12\n",
    "groceries = 600 * 12\n",
    "electric = 150 *12\n",
    "wifi = 120 * 12\n",
    "gas = 100 * 12\n",
    "water = 60 * 12\n",
    "healthcare = 600 * 12\n",
    "car = 2500 * 12\n",
    "travel = 10000 * 12\n",
    "entertainment = 1000 * 12\n",
    "\n",
    "expenses = housing + groceries + electric + wifi + gas + water + healthcare + car + travel + entertainment\n",
    "\n",
    "#including capital gains tax\n",
    "expenses = expenses * 1.15\n",
    "\n",
    "print(expenses)"
   ]
  },
  {
   "cell_type": "code",
   "execution_count": 7,
   "id": "87c29174-095c-41fa-a285-dc377339ebdb",
   "metadata": {},
   "outputs": [
    {
     "data": {
      "text/plain": [
       "2432940.0"
      ]
     },
     "execution_count": 7,
     "metadata": {},
     "output_type": "execute_result"
    }
   ],
   "source": [
    "#calculating money needed in the bank to retire\n",
    "money_needed_to_retire = round(expenses/.10, 2)\n",
    "money_needed_to_retire"
   ]
  },
  {
   "cell_type": "code",
   "execution_count": 21,
   "id": "76e4b945-60a2-4e73-bba9-7256ded619b3",
   "metadata": {},
   "outputs": [
    {
     "name": "stdout",
     "output_type": "stream",
     "text": [
      "49 2613648.7511724895\n"
     ]
    }
   ],
   "source": [
    "balance = 10000\n",
    "deposits = 20500\n",
    "my_age = 22\n",
    "\n",
    "#constructing while-loop to calculate age you can retire\n",
    "while balance < money_needed_to_retire :\n",
    "    balance = (balance * 1.10) + deposits\n",
    "    my_age += 1\n",
    "    \n",
    "print(my_age, balance)"
   ]
  },
  {
   "cell_type": "code",
   "execution_count": null,
   "id": "02cf34f3-6275-4ee2-951f-072a9d7d955c",
   "metadata": {},
   "outputs": [],
   "source": []
  }
 ],
 "metadata": {
  "kernelspec": {
   "display_name": "Python 3 (ipykernel)",
   "language": "python",
   "name": "python3"
  },
  "language_info": {
   "codemirror_mode": {
    "name": "ipython",
    "version": 3
   },
   "file_extension": ".py",
   "mimetype": "text/x-python",
   "name": "python",
   "nbconvert_exporter": "python",
   "pygments_lexer": "ipython3",
   "version": "3.9.7"
  }
 },
 "nbformat": 4,
 "nbformat_minor": 5
}
